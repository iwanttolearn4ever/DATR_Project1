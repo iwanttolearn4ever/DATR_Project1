{
 "cells": [
  {
   "cell_type": "markdown",
   "metadata": {},
   "source": [
    "<img src=\"http://imgur.com/1ZcRyrc.png\" style=\"float: left; margin: 20px; height: 55px\">\n",
    "\n",
    "# Project 1: Python Coding Exercises\n",
    "\n",
    "_Authors: Joseph Nelson (DC) _\n",
    "\n",
    "---"
   ]
  },
  {
   "cell_type": "markdown",
   "metadata": {},
   "source": [
    "The following code challenges are drawn from common exercises used in technical interviews.\n",
    "\n",
    "Please note that there may be several ways to approach each challenge. If you get stuck, try mapping out your approach in pseudocode first. Finally, while solutions to problems like these may be found online, remember that if you copy/paste code that you can't explain, you'll be missing out on the point of the project. The only way to truly learn a new skill is through practice, trial, and error - we can only help you improve by understanding where you are having trouble."
   ]
  },
  {
   "cell_type": "markdown",
   "metadata": {},
   "source": [
    "### Challenge 1: Largest Palindrome\n",
    "A palindromic number reads the same both ways. For example, 1234321 is a palindrome. The largest palindrome made from the product of two two-digit numbers is 9009 = 91 × 99. Find the largest palindrome made from the product of two three-digit numbers. Afterward, write a brief explanation walking through your code's logic in markdown."
   ]
  },
  {
   "cell_type": "code",
   "execution_count": 1,
   "metadata": {},
   "outputs": [
    {
     "name": "stdout",
     "output_type": "stream",
     "text": [
      "906609\n"
     ]
    }
   ],
   "source": [
    "first_value = range(100,1000)\n",
    "second_value = range(100,1000)\n",
    "palindrome_list = []\n",
    "for n1 in first_value:\n",
    "    for n2 in second_value:\n",
    "        product = str(n1 * n2)\n",
    "        reverse_product = product[::-1]\n",
    "        if product == reverse_product:\n",
    "            palindrome_list.append(product)\n",
    "palindrome_list = [int(i) for i in palindrome_list]\n",
    "print(max(palindrome_list))\n"
   ]
  },
  {
   "cell_type": "markdown",
   "metadata": {},
   "source": [
    "**Explanation:**\n",
    "<br>\n",
    "To obtain the largest palindrome made from the product of two three-digit numbers, we first obtain all products of two three-digit numbers.  This is done using the range function and nested for loops.\n",
    "<br>\n",
    "<br>\n",
    "The products are filtered to obtain all palindromes.  This is done by converting all products (\"product\" variable) from an int to a str and saving the value to a \"reverse_product\" variable before checking if the \"product\" variable is equal to the \"reverse_product\" variable; if the value is identical, it is a palindrome and will be appended to a palindrome list.\n",
    "<br>\n",
    "<br>\n",
    "The elements in the palindrome list are then converted from str to int using list comprehension.  The largest value in the list (i.e. the largest palindrome) is then obtained using the max function."
   ]
  },
  {
   "cell_type": "markdown",
   "metadata": {},
   "source": [
    "\n",
    "### Challenge 2: Summation of Primes\n",
    "The sum of the primes below 10 is 2 + 3 + 5 + 7 = 17. Find the sum of all the primes below 2,000. Afterward, write a brief explanation walking through your code's logic in markdown."
   ]
  },
  {
   "cell_type": "code",
   "execution_count": 2,
   "metadata": {},
   "outputs": [
    {
     "name": "stdout",
     "output_type": "stream",
     "text": [
      "277050\n"
     ]
    }
   ],
   "source": [
    "number_range = range(2,2000)\n",
    "number_range_list = list(number_range)\n",
    "for n1 in number_range:\n",
    "    for n2 in range(2, n1):\n",
    "        if n1 % n2 == 0:\n",
    "#            print(n1, n2, \"no remainder\")\n",
    "            try:\n",
    "                number_range_list.remove(n1)\n",
    "            except Exception:\n",
    "                pass\n",
    "#print(number_range_list)\n",
    "print(sum(number_range_list))"
   ]
  },
  {
   "cell_type": "markdown",
   "metadata": {},
   "source": [
    "**Explanation:**\n",
    "<br>\n",
    "A number is not a prime if it can be divided by a smaller number without any remainder.  A list of all values is first generated (number_range_list).  A nested for loop is then used to calculate numbers that are not prime - every value in the list is divided by values larger than two but smaller than the value itself; values that have no remainder are removed from the original full list of values using the \"remove\" function.  \n",
    "<br>\n",
    "Certain values can be divided by more than one smaller value (e.g. 8 can be divided by 4 or 2 with no remainder).  However, the number_range_list only contains one instance of each value.  Hence, try/except/pass is used to allow the code to keep running.\n",
    "<br>\n",
    "<br>\n",
    "The remaining values in the list are prime numbers which are then summed."
   ]
  },
  {
   "cell_type": "markdown",
   "metadata": {},
   "source": [
    "### Challenge 3: Multiples of 3 and 5\n",
    "If we list all of the natural numbers below 10 that are multiples of 3 or 5, we get 3, 5, 6, and 9. The sum of these multiples is 23. Find the sum of all the multiples of 3 and 5 below 1,000. Afterward, write a brief explanation walking through your code's logic in markdown."
   ]
  },
  {
   "cell_type": "code",
   "execution_count": 3,
   "metadata": {},
   "outputs": [
    {
     "name": "stdout",
     "output_type": "stream",
     "text": [
      "233168\n"
     ]
    }
   ],
   "source": [
    "numbers = range(0,1000)\n",
    "prime_list = []\n",
    "for n in numbers:\n",
    "    if n % 3 == 0 or n % 5 == 0:\n",
    "        prime_list.append(n)\n",
    "print(sum(prime_list))"
   ]
  },
  {
   "cell_type": "markdown",
   "metadata": {},
   "source": [
    "**Explanation:**\n",
    "<br>\n",
    "A number is considered a multiple of 3 or 5 if it can be divided by 3 and 5 respectively without a remainder.  A for loop is applied to a range of values between 0 and 999 to filter out values which can be divided either by 3 or 5.  These values are then appended to a prime_list which is then summed."
   ]
  },
  {
   "cell_type": "markdown",
   "metadata": {},
   "source": [
    "### Challenge 4: String Compressor\n",
    "Implement a method to perform basic string compression using the counts of repeated characters. (This is called run-length encoding.) For example, the string \"aabcccccaaa\" would become a2b1c5a3. If the “compressed” string would not become smaller than the original string, your method should return the original string. You can assume the string has only uppercase and lowercase letters (a–z). Specify whether your solution is case sensitive or case insensitive and what you would need to change to make it the other. Afterward, write a brief explanation walking through your code's logic in markdown."
   ]
  },
  {
   "cell_type": "code",
   "execution_count": 6,
   "metadata": {},
   "outputs": [
    {
     "name": "stdout",
     "output_type": "stream",
     "text": [
      "Input String: aabcccccaaa\n",
      "Output: a2b1c5a3\n"
     ]
    }
   ],
   "source": [
    "def compress(original_string):\n",
    "    result = \"\"\n",
    "    count = 1\n",
    "    for i in range(1, len(original_string)):\n",
    "#        print(\"index\",i)\n",
    "        if original_string[i - 1] == original_string[i]:\n",
    "#            print(\"count1\",count)\n",
    "            count += 1\n",
    "#            print(\"count2\",count)\n",
    "        else:\n",
    "            result = result + original_string[i - 1]\n",
    "#            print(\"result1\",result)\n",
    "            if count >= 1:\n",
    "#                print(\"count3\", count)\n",
    "                result += str(count)\n",
    "#                print(\"result2\",result)\n",
    "                count = 1\n",
    "    result += original_string[-1]\n",
    "#    print(\"result3\",result)\n",
    "    if count >= 1:\n",
    "        result += str(count)\n",
    "    return result\n",
    "\n",
    "original_string= input(\"Input String: \")\n",
    "print(\"Output:\",compress(original_string))\n"
   ]
  },
  {
   "cell_type": "markdown",
   "metadata": {},
   "source": [
    "**Explanation:**\n",
    "<br>\n",
    "Nested for loops are applied to the string index to determine whether a character is identical to the character immediately following it.  If yes, the code adds to the counter for the original character.  If no, it concatenates the original counter with its associated character and appends it to the final result string.  It then restarts the counting process for the next unique character.  Once the code finishes going through the entire string, the final character count is appended to the final result string.\n",
    "<br>\n",
    "<br>\n",
    "The solution is case sensitive.  In order to make it non-case-sensitive, the \"upper\" or \"lower\" function can be applied to the original_string after its been inputted."
   ]
  },
  {
   "cell_type": "markdown",
   "metadata": {},
   "source": [
    "### *BONUS* Challenge: FizzBuzz\n",
    "Write a program that prints all of the numbers from 1 to 100. For multiples of 3, instead of the number, print \"Fizz;\" for multiples of 5, print \"Buzz.\" For numbers that are multiples of both 3 and 5, print \"FizzBuzz.\" Afterward, write a brief explanation walking through your code's logic in markdown."
   ]
  },
  {
   "cell_type": "code",
   "execution_count": 7,
   "metadata": {},
   "outputs": [
    {
     "name": "stdout",
     "output_type": "stream",
     "text": [
      "3 Fizz\n",
      "5 Buzz\n",
      "6 Fizz\n",
      "9 Fizz\n",
      "10 Buzz\n",
      "12 Fizz\n",
      "15 FizzBuzz\n",
      "18 Fizz\n",
      "20 Buzz\n",
      "21 Fizz\n",
      "24 Fizz\n",
      "25 Buzz\n",
      "27 Fizz\n",
      "30 FizzBuzz\n",
      "33 Fizz\n",
      "35 Buzz\n",
      "36 Fizz\n",
      "39 Fizz\n",
      "40 Buzz\n",
      "42 Fizz\n",
      "45 FizzBuzz\n",
      "48 Fizz\n",
      "50 Buzz\n",
      "51 Fizz\n",
      "54 Fizz\n",
      "55 Buzz\n",
      "57 Fizz\n",
      "60 FizzBuzz\n",
      "63 Fizz\n",
      "65 Buzz\n",
      "66 Fizz\n",
      "69 Fizz\n",
      "70 Buzz\n",
      "72 Fizz\n",
      "75 FizzBuzz\n",
      "78 Fizz\n",
      "80 Buzz\n",
      "81 Fizz\n",
      "84 Fizz\n",
      "85 Buzz\n",
      "87 Fizz\n",
      "90 FizzBuzz\n",
      "93 Fizz\n",
      "95 Buzz\n",
      "96 Fizz\n",
      "99 Fizz\n",
      "100 Buzz\n"
     ]
    }
   ],
   "source": [
    "numbers = range(1,101)\n",
    "prime_list = []\n",
    "for n in numbers:\n",
    "    if n % 15 == 0:\n",
    "        print(n,\"FizzBuzz\")\n",
    "    elif n % 3 == 0:\n",
    "        print(n,\"Fizz\")\n",
    "    elif n % 5 == 0:\n",
    "        print(n,\"Buzz\")"
   ]
  },
  {
   "cell_type": "markdown",
   "metadata": {},
   "source": [
    "**Explanation:**\n",
    "<br>A number is considered a multiple of 3 or 5 if it can be divided by 3 and 5 respectively without a remainder.  A number is considered a multiple of 3 and 5 if it can be divided by 15 without a remainder.  A for loop is applied to a range of values between 0 and 100 to determine which can be divided either by 15 or 3 or 5.  The corresponding print statement for either \"Fizz\", \"Buzz\" or \"Fizzbuzz\" is then applied."
   ]
  },
  {
   "cell_type": "code",
   "execution_count": null,
   "metadata": {},
   "outputs": [],
   "source": []
  }
 ],
 "metadata": {
  "anaconda-cloud": {},
  "kernelspec": {
   "display_name": "Python 3 (ipykernel)",
   "language": "python",
   "name": "python3"
  },
  "language_info": {
   "codemirror_mode": {
    "name": "ipython",
    "version": 3
   },
   "file_extension": ".py",
   "mimetype": "text/x-python",
   "name": "python",
   "nbconvert_exporter": "python",
   "pygments_lexer": "ipython3",
   "version": "3.9.12"
  }
 },
 "nbformat": 4,
 "nbformat_minor": 2
}
